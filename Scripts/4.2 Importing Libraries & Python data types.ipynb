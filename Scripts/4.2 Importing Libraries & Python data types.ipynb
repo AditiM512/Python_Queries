{
 "cells": [
  {
   "cell_type": "markdown",
   "id": "34fa5eb6-bab4-43fa-abbc-a792f050f9b6",
   "metadata": {},
   "source": [
    "# 01. Importing Libraries"
   ]
  },
  {
   "cell_type": "code",
   "execution_count": null,
   "id": "05d27881-0e69-466d-bebe-e51c3e6fcad8",
   "metadata": {
    "jupyter": {
     "source_hidden": true
    }
   },
   "outputs": [],
   "source": [
    "\"# Import libraries\n",
    "import pandas as pd\n",
    "import numpy as np\n",
    "import os\"\n",
    "Already installed"
   ]
  },
  {
   "cell_type": "markdown",
   "id": "0ef29c10-78f7-4ead-a62b-b0d367e64840",
   "metadata": {},
   "source": [
    "# 02. Python data Types"
   ]
  },
  {
   "cell_type": "code",
   "execution_count": 7,
   "id": "bae708ad-4afc-40de-8155-987ea5136a93",
   "metadata": {},
   "outputs": [],
   "source": [
    "x=50\n",
    "y=2\n",
    "z=60\n",
    "p=40\n",
    "t=100\n",
    "m=0"
   ]
  },
  {
   "cell_type": "code",
   "execution_count": 9,
   "id": "f20a507a-0b3b-44e6-8090-2467d0264aa9",
   "metadata": {},
   "outputs": [
    {
     "name": "stdout",
     "output_type": "stream",
     "text": [
      "100\n"
     ]
    }
   ],
   "source": [
    "print(x*y)"
   ]
  },
  {
   "cell_type": "code",
   "execution_count": 11,
   "id": "ac86b4d5-2079-4551-b347-83367ce299a8",
   "metadata": {},
   "outputs": [
    {
     "name": "stdout",
     "output_type": "stream",
     "text": [
      "100\n"
     ]
    }
   ],
   "source": [
    "print(z+p)"
   ]
  },
  {
   "cell_type": "code",
   "execution_count": 13,
   "id": "1e02ab1f-c53c-495e-8acc-efd8b77c933e",
   "metadata": {},
   "outputs": [
    {
     "name": "stdout",
     "output_type": "stream",
     "text": [
      "100\n"
     ]
    }
   ],
   "source": [
    "print(t-m)"
   ]
  },
  {
   "cell_type": "code",
   "execution_count": 15,
   "id": "7569eeec-33f6-4cac-847e-d3b0cf2b1226",
   "metadata": {},
   "outputs": [],
   "source": [
    "x=3.2\n",
    "y=1.6"
   ]
  },
  {
   "cell_type": "code",
   "execution_count": 17,
   "id": "ae8523dc-b2cc-433f-ab01-77981280a5bd",
   "metadata": {},
   "outputs": [
    {
     "name": "stdout",
     "output_type": "stream",
     "text": [
      "2.0\n"
     ]
    }
   ],
   "source": [
    "print(x/y)"
   ]
  },
  {
   "cell_type": "code",
   "execution_count": 19,
   "id": "e487228c-bf96-4a32-b92d-4a117d2d3d00",
   "metadata": {},
   "outputs": [],
   "source": [
    "x='butter'\n",
    "y='fly'"
   ]
  },
  {
   "cell_type": "code",
   "execution_count": 21,
   "id": "50f56697-5f37-449a-83b1-54068b0f7e84",
   "metadata": {},
   "outputs": [
    {
     "name": "stdout",
     "output_type": "stream",
     "text": [
      "butterfly\n"
     ]
    }
   ],
   "source": [
    "print(x+y)"
   ]
  },
  {
   "cell_type": "code",
   "execution_count": 23,
   "id": "38c27e41-12c3-4a74-a049-fe939677ac19",
   "metadata": {},
   "outputs": [],
   "source": [
    "x='I love ABC'\n",
    "y='and XXY'"
   ]
  },
  {
   "cell_type": "code",
   "execution_count": 25,
   "id": "d19ba21f-c333-4aca-a66d-e6adba2f1d77",
   "metadata": {},
   "outputs": [
    {
     "name": "stdout",
     "output_type": "stream",
     "text": [
      "I love ABCand XXY\n"
     ]
    }
   ],
   "source": [
    "print(x+y)"
   ]
  },
  {
   "cell_type": "code",
   "execution_count": 27,
   "id": "4b742166-78c3-495b-b237-5c28733ccb41",
   "metadata": {},
   "outputs": [],
   "source": [
    "x='Aditi'\n",
    "y=100"
   ]
  },
  {
   "cell_type": "code",
   "execution_count": 29,
   "id": "50a387c3-89e2-40e1-bcfb-73f477d0702d",
   "metadata": {},
   "outputs": [
    {
     "name": "stdout",
     "output_type": "stream",
     "text": [
      "AditiAditiAditiAditiAditiAditiAditiAditiAditiAditiAditiAditiAditiAditiAditiAditiAditiAditiAditiAditiAditiAditiAditiAditiAditiAditiAditiAditiAditiAditiAditiAditiAditiAditiAditiAditiAditiAditiAditiAditiAditiAditiAditiAditiAditiAditiAditiAditiAditiAditiAditiAditiAditiAditiAditiAditiAditiAditiAditiAditiAditiAditiAditiAditiAditiAditiAditiAditiAditiAditiAditiAditiAditiAditiAditiAditiAditiAditiAditiAditiAditiAditiAditiAditiAditiAditiAditiAditiAditiAditiAditiAditiAditiAditiAditiAditiAditiAditiAditiAditi\n"
     ]
    }
   ],
   "source": [
    "print(x*y)"
   ]
  }
 ],
 "metadata": {
  "kernelspec": {
   "display_name": "Python 3 (ipykernel)",
   "language": "python",
   "name": "python3"
  },
  "language_info": {
   "codemirror_mode": {
    "name": "ipython",
    "version": 3
   },
   "file_extension": ".py",
   "mimetype": "text/x-python",
   "name": "python",
   "nbconvert_exporter": "python",
   "pygments_lexer": "ipython3",
   "version": "3.11.7"
  }
 },
 "nbformat": 4,
 "nbformat_minor": 5
}
